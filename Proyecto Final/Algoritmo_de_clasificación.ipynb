{
  "nbformat": 4,
  "nbformat_minor": 0,
  "metadata": {
    "colab": {
      "name": "Algoritmo de clasificación.ipynb",
      "provenance": []
    },
    "kernelspec": {
      "name": "python3",
      "display_name": "Python 3"
    },
    "language_info": {
      "name": "python"
    }
  },
  "cells": [
    {
      "cell_type": "markdown",
      "source": [
        "# Consigna\n",
        "Sobre el dataset del proyecto final, realizar la creación e implementación de al menos uno de los algoritmos de clasificación (KNN, Random Forest, Regresión Logística)."
      ],
      "metadata": {
        "id": "uGf1UgJSnB47"
      }
    },
    {
      "cell_type": "markdown",
      "source": [
        "# Random Forest"
      ],
      "metadata": {
        "id": "U08Sq9Ort7RG"
      }
    },
    {
      "cell_type": "code",
      "execution_count": null,
      "metadata": {
        "id": "rTbxdSMNmUR5"
      },
      "outputs": [],
      "source": [
        "# Carga de las librerías\n",
        "import pandas as pd\n",
        "from sklearn.model_selection import train_test_split\n",
        "from sklearn.ensemble import RandomForestClassifier\n",
        "from sklearn.tree import DecisionTreeClassifier"
      ]
    },
    {
      "cell_type": "code",
      "source": [
        "# Cargamos los datos\n",
        "df = pd.read_csv('/content/FIFA22_official_data.csv')\n",
        "df = df[['Name', 'Age','Nationality','Overall',\n",
        "       'Potential', 'Club','Value', 'Wage', 'Special','International Reputation','Skill Moves', 'Work Rate','Height', 'Weight','Best Position', 'Best Overall Rating']]\n",
        "df.head()"
      ],
      "metadata": {
        "id": "CKdzeQQ0prMk",
        "colab": {
          "base_uri": "https://localhost:8080/",
          "height": 320
        },
        "outputId": "d4e28134-418a-403d-be45-54097e290b69"
      },
      "execution_count": null,
      "outputs": [
        {
          "output_type": "execute_result",
          "data": {
            "text/plain": [
              "              Name  Age Nationality  Overall  Potential                Club  \\\n",
              "0  Bruno Fernandes   26    Portugal       88         89   Manchester United   \n",
              "1      L. Goretzka   26     Germany       87         88   FC Bayern München   \n",
              "2        L. Suárez   34     Uruguay       88         88  Atlético de Madrid   \n",
              "3     K. De Bruyne   30     Belgium       91         91     Manchester City   \n",
              "4         M. Acuña   29   Argentina       84         84          Sevilla FC   \n",
              "\n",
              "     Value   Wage  Special  International Reputation  Skill Moves  \\\n",
              "0  €107.5M  €250K     2341                       3.0          4.0   \n",
              "1     €93M  €140K     2314                       4.0          3.0   \n",
              "2   €44.5M  €135K     2307                       5.0          3.0   \n",
              "3  €125.5M  €350K     2304                       4.0          4.0   \n",
              "4     €37M   €45K     2292                       2.0          4.0   \n",
              "\n",
              "      Work Rate Height Weight Best Position  Best Overall Rating  \n",
              "0    High/ High  179cm   69kg           CAM                 88.0  \n",
              "1  High/ Medium  189cm   82kg            CM                 87.0  \n",
              "2  High/ Medium  182cm   83kg            ST                 88.0  \n",
              "3    High/ High  181cm   70kg            CM                 91.0  \n",
              "4    High/ High  172cm   69kg            LB                 84.0  "
            ],
            "text/html": [
              "\n",
              "  <div id=\"df-6e97f78c-0dd4-41a2-8890-b85182abb9d5\">\n",
              "    <div class=\"colab-df-container\">\n",
              "      <div>\n",
              "<style scoped>\n",
              "    .dataframe tbody tr th:only-of-type {\n",
              "        vertical-align: middle;\n",
              "    }\n",
              "\n",
              "    .dataframe tbody tr th {\n",
              "        vertical-align: top;\n",
              "    }\n",
              "\n",
              "    .dataframe thead th {\n",
              "        text-align: right;\n",
              "    }\n",
              "</style>\n",
              "<table border=\"1\" class=\"dataframe\">\n",
              "  <thead>\n",
              "    <tr style=\"text-align: right;\">\n",
              "      <th></th>\n",
              "      <th>Name</th>\n",
              "      <th>Age</th>\n",
              "      <th>Nationality</th>\n",
              "      <th>Overall</th>\n",
              "      <th>Potential</th>\n",
              "      <th>Club</th>\n",
              "      <th>Value</th>\n",
              "      <th>Wage</th>\n",
              "      <th>Special</th>\n",
              "      <th>International Reputation</th>\n",
              "      <th>Skill Moves</th>\n",
              "      <th>Work Rate</th>\n",
              "      <th>Height</th>\n",
              "      <th>Weight</th>\n",
              "      <th>Best Position</th>\n",
              "      <th>Best Overall Rating</th>\n",
              "    </tr>\n",
              "  </thead>\n",
              "  <tbody>\n",
              "    <tr>\n",
              "      <th>0</th>\n",
              "      <td>Bruno Fernandes</td>\n",
              "      <td>26</td>\n",
              "      <td>Portugal</td>\n",
              "      <td>88</td>\n",
              "      <td>89</td>\n",
              "      <td>Manchester United</td>\n",
              "      <td>€107.5M</td>\n",
              "      <td>€250K</td>\n",
              "      <td>2341</td>\n",
              "      <td>3.0</td>\n",
              "      <td>4.0</td>\n",
              "      <td>High/ High</td>\n",
              "      <td>179cm</td>\n",
              "      <td>69kg</td>\n",
              "      <td>CAM</td>\n",
              "      <td>88.0</td>\n",
              "    </tr>\n",
              "    <tr>\n",
              "      <th>1</th>\n",
              "      <td>L. Goretzka</td>\n",
              "      <td>26</td>\n",
              "      <td>Germany</td>\n",
              "      <td>87</td>\n",
              "      <td>88</td>\n",
              "      <td>FC Bayern München</td>\n",
              "      <td>€93M</td>\n",
              "      <td>€140K</td>\n",
              "      <td>2314</td>\n",
              "      <td>4.0</td>\n",
              "      <td>3.0</td>\n",
              "      <td>High/ Medium</td>\n",
              "      <td>189cm</td>\n",
              "      <td>82kg</td>\n",
              "      <td>CM</td>\n",
              "      <td>87.0</td>\n",
              "    </tr>\n",
              "    <tr>\n",
              "      <th>2</th>\n",
              "      <td>L. Suárez</td>\n",
              "      <td>34</td>\n",
              "      <td>Uruguay</td>\n",
              "      <td>88</td>\n",
              "      <td>88</td>\n",
              "      <td>Atlético de Madrid</td>\n",
              "      <td>€44.5M</td>\n",
              "      <td>€135K</td>\n",
              "      <td>2307</td>\n",
              "      <td>5.0</td>\n",
              "      <td>3.0</td>\n",
              "      <td>High/ Medium</td>\n",
              "      <td>182cm</td>\n",
              "      <td>83kg</td>\n",
              "      <td>ST</td>\n",
              "      <td>88.0</td>\n",
              "    </tr>\n",
              "    <tr>\n",
              "      <th>3</th>\n",
              "      <td>K. De Bruyne</td>\n",
              "      <td>30</td>\n",
              "      <td>Belgium</td>\n",
              "      <td>91</td>\n",
              "      <td>91</td>\n",
              "      <td>Manchester City</td>\n",
              "      <td>€125.5M</td>\n",
              "      <td>€350K</td>\n",
              "      <td>2304</td>\n",
              "      <td>4.0</td>\n",
              "      <td>4.0</td>\n",
              "      <td>High/ High</td>\n",
              "      <td>181cm</td>\n",
              "      <td>70kg</td>\n",
              "      <td>CM</td>\n",
              "      <td>91.0</td>\n",
              "    </tr>\n",
              "    <tr>\n",
              "      <th>4</th>\n",
              "      <td>M. Acuña</td>\n",
              "      <td>29</td>\n",
              "      <td>Argentina</td>\n",
              "      <td>84</td>\n",
              "      <td>84</td>\n",
              "      <td>Sevilla FC</td>\n",
              "      <td>€37M</td>\n",
              "      <td>€45K</td>\n",
              "      <td>2292</td>\n",
              "      <td>2.0</td>\n",
              "      <td>4.0</td>\n",
              "      <td>High/ High</td>\n",
              "      <td>172cm</td>\n",
              "      <td>69kg</td>\n",
              "      <td>LB</td>\n",
              "      <td>84.0</td>\n",
              "    </tr>\n",
              "  </tbody>\n",
              "</table>\n",
              "</div>\n",
              "      <button class=\"colab-df-convert\" onclick=\"convertToInteractive('df-6e97f78c-0dd4-41a2-8890-b85182abb9d5')\"\n",
              "              title=\"Convert this dataframe to an interactive table.\"\n",
              "              style=\"display:none;\">\n",
              "        \n",
              "  <svg xmlns=\"http://www.w3.org/2000/svg\" height=\"24px\"viewBox=\"0 0 24 24\"\n",
              "       width=\"24px\">\n",
              "    <path d=\"M0 0h24v24H0V0z\" fill=\"none\"/>\n",
              "    <path d=\"M18.56 5.44l.94 2.06.94-2.06 2.06-.94-2.06-.94-.94-2.06-.94 2.06-2.06.94zm-11 1L8.5 8.5l.94-2.06 2.06-.94-2.06-.94L8.5 2.5l-.94 2.06-2.06.94zm10 10l.94 2.06.94-2.06 2.06-.94-2.06-.94-.94-2.06-.94 2.06-2.06.94z\"/><path d=\"M17.41 7.96l-1.37-1.37c-.4-.4-.92-.59-1.43-.59-.52 0-1.04.2-1.43.59L10.3 9.45l-7.72 7.72c-.78.78-.78 2.05 0 2.83L4 21.41c.39.39.9.59 1.41.59.51 0 1.02-.2 1.41-.59l7.78-7.78 2.81-2.81c.8-.78.8-2.07 0-2.86zM5.41 20L4 18.59l7.72-7.72 1.47 1.35L5.41 20z\"/>\n",
              "  </svg>\n",
              "      </button>\n",
              "      \n",
              "  <style>\n",
              "    .colab-df-container {\n",
              "      display:flex;\n",
              "      flex-wrap:wrap;\n",
              "      gap: 12px;\n",
              "    }\n",
              "\n",
              "    .colab-df-convert {\n",
              "      background-color: #E8F0FE;\n",
              "      border: none;\n",
              "      border-radius: 50%;\n",
              "      cursor: pointer;\n",
              "      display: none;\n",
              "      fill: #1967D2;\n",
              "      height: 32px;\n",
              "      padding: 0 0 0 0;\n",
              "      width: 32px;\n",
              "    }\n",
              "\n",
              "    .colab-df-convert:hover {\n",
              "      background-color: #E2EBFA;\n",
              "      box-shadow: 0px 1px 2px rgba(60, 64, 67, 0.3), 0px 1px 3px 1px rgba(60, 64, 67, 0.15);\n",
              "      fill: #174EA6;\n",
              "    }\n",
              "\n",
              "    [theme=dark] .colab-df-convert {\n",
              "      background-color: #3B4455;\n",
              "      fill: #D2E3FC;\n",
              "    }\n",
              "\n",
              "    [theme=dark] .colab-df-convert:hover {\n",
              "      background-color: #434B5C;\n",
              "      box-shadow: 0px 1px 3px 1px rgba(0, 0, 0, 0.15);\n",
              "      filter: drop-shadow(0px 1px 2px rgba(0, 0, 0, 0.3));\n",
              "      fill: #FFFFFF;\n",
              "    }\n",
              "  </style>\n",
              "\n",
              "      <script>\n",
              "        const buttonEl =\n",
              "          document.querySelector('#df-6e97f78c-0dd4-41a2-8890-b85182abb9d5 button.colab-df-convert');\n",
              "        buttonEl.style.display =\n",
              "          google.colab.kernel.accessAllowed ? 'block' : 'none';\n",
              "\n",
              "        async function convertToInteractive(key) {\n",
              "          const element = document.querySelector('#df-6e97f78c-0dd4-41a2-8890-b85182abb9d5');\n",
              "          const dataTable =\n",
              "            await google.colab.kernel.invokeFunction('convertToInteractive',\n",
              "                                                     [key], {});\n",
              "          if (!dataTable) return;\n",
              "\n",
              "          const docLinkHtml = 'Like what you see? Visit the ' +\n",
              "            '<a target=\"_blank\" href=https://colab.research.google.com/notebooks/data_table.ipynb>data table notebook</a>'\n",
              "            + ' to learn more about interactive tables.';\n",
              "          element.innerHTML = '';\n",
              "          dataTable['output_type'] = 'display_data';\n",
              "          await google.colab.output.renderOutput(dataTable, element);\n",
              "          const docLink = document.createElement('div');\n",
              "          docLink.innerHTML = docLinkHtml;\n",
              "          element.appendChild(docLink);\n",
              "        }\n",
              "      </script>\n",
              "    </div>\n",
              "  </div>\n",
              "  "
            ]
          },
          "metadata": {},
          "execution_count": 73
        }
      ]
    },
    {
      "cell_type": "code",
      "source": [
        "for column in ('Value', 'Wage'):\n",
        "  for index in range(0, len(df[column])):\n",
        "    value = str(df[column].loc[index])\n",
        "\n",
        "    value = value.replace('€','')\n",
        "\n",
        "    if '.' in value:\n",
        "      value = value.replace('.', '')\n",
        "    if 'K' in value:\n",
        "      value = value.replace('K', '000')\n",
        "    if 'M' in value:\n",
        "      value = value.replace('M', '000000')\n",
        "\n",
        "    df[column].loc[index] = int(value)"
      ],
      "metadata": {
        "colab": {
          "base_uri": "https://localhost:8080/"
        },
        "id": "-jY5cEn-sd7h",
        "outputId": "1838c320-95b8-4d6d-c20a-e029ed1e79df"
      },
      "execution_count": null,
      "outputs": [
        {
          "output_type": "stream",
          "name": "stderr",
          "text": [
            "/usr/local/lib/python3.7/dist-packages/pandas/core/indexing.py:1732: SettingWithCopyWarning: \n",
            "A value is trying to be set on a copy of a slice from a DataFrame\n",
            "\n",
            "See the caveats in the documentation: https://pandas.pydata.org/pandas-docs/stable/user_guide/indexing.html#returning-a-view-versus-a-copy\n",
            "  self._setitem_single_block(indexer, value, name)\n"
          ]
        }
      ]
    },
    {
      "cell_type": "code",
      "source": [
        "df['Value']= pd.to_numeric(df['Value'],errors = 'coerce')\n",
        "df['Wage']= pd.to_numeric(df['Wage'],errors = 'coerce')"
      ],
      "metadata": {
        "id": "diO_EFfospO-"
      },
      "execution_count": null,
      "outputs": []
    },
    {
      "cell_type": "code",
      "source": [
        "#se agrega una nueva columna donde se encasilla a los jugadores en posiciones generales, siendo estas Arquero, Defensor, Volante y Delantero\n",
        "\n",
        "map_position={'CAM':'Volante','CM':'Volante', 'LB':'Defensor',  'ST':'Delantero', 'CDM':'Volante', 'CB':'Defensor', 'RB':'Defensor', 'LM':'Volante', \n",
        "              'RW':'Volante', 'LW':'Volante', 'CF':'Delantero', 'LWB':'Defensor', 'RM':'Volante','RWB':'Defensor', 'GK':'Arquero'}\n",
        "\n",
        "df['General Position'] = df['Best Position'].map(map_position)\n",
        "\n",
        "df.head()"
      ],
      "metadata": {
        "colab": {
          "base_uri": "https://localhost:8080/",
          "height": 372
        },
        "id": "hHkJauZAsyIK",
        "outputId": "b6a9791d-2c75-4d3e-99a5-cc91785b7a9f"
      },
      "execution_count": null,
      "outputs": [
        {
          "output_type": "execute_result",
          "data": {
            "text/plain": [
              "              Name  Age Nationality  Overall  Potential                Club  \\\n",
              "0  Bruno Fernandes   26    Portugal       88         89   Manchester United   \n",
              "1      L. Goretzka   26     Germany       87         88   FC Bayern München   \n",
              "2        L. Suárez   34     Uruguay       88         88  Atlético de Madrid   \n",
              "3     K. De Bruyne   30     Belgium       91         91     Manchester City   \n",
              "4         M. Acuña   29   Argentina       84         84          Sevilla FC   \n",
              "\n",
              "        Value    Wage  Special  International Reputation  Skill Moves  \\\n",
              "0  1075000000  250000     2341                       3.0          4.0   \n",
              "1    93000000  140000     2314                       4.0          3.0   \n",
              "2   445000000  135000     2307                       5.0          3.0   \n",
              "3  1255000000  350000     2304                       4.0          4.0   \n",
              "4    37000000   45000     2292                       2.0          4.0   \n",
              "\n",
              "      Work Rate Height Weight Best Position  Best Overall Rating  \\\n",
              "0    High/ High  179cm   69kg           CAM                 88.0   \n",
              "1  High/ Medium  189cm   82kg            CM                 87.0   \n",
              "2  High/ Medium  182cm   83kg            ST                 88.0   \n",
              "3    High/ High  181cm   70kg            CM                 91.0   \n",
              "4    High/ High  172cm   69kg            LB                 84.0   \n",
              "\n",
              "  General Position  \n",
              "0          Volante  \n",
              "1          Volante  \n",
              "2        Delantero  \n",
              "3          Volante  \n",
              "4         Defensor  "
            ],
            "text/html": [
              "\n",
              "  <div id=\"df-03a1c6f8-8c98-4ba7-b398-46352a4451b2\">\n",
              "    <div class=\"colab-df-container\">\n",
              "      <div>\n",
              "<style scoped>\n",
              "    .dataframe tbody tr th:only-of-type {\n",
              "        vertical-align: middle;\n",
              "    }\n",
              "\n",
              "    .dataframe tbody tr th {\n",
              "        vertical-align: top;\n",
              "    }\n",
              "\n",
              "    .dataframe thead th {\n",
              "        text-align: right;\n",
              "    }\n",
              "</style>\n",
              "<table border=\"1\" class=\"dataframe\">\n",
              "  <thead>\n",
              "    <tr style=\"text-align: right;\">\n",
              "      <th></th>\n",
              "      <th>Name</th>\n",
              "      <th>Age</th>\n",
              "      <th>Nationality</th>\n",
              "      <th>Overall</th>\n",
              "      <th>Potential</th>\n",
              "      <th>Club</th>\n",
              "      <th>Value</th>\n",
              "      <th>Wage</th>\n",
              "      <th>Special</th>\n",
              "      <th>International Reputation</th>\n",
              "      <th>Skill Moves</th>\n",
              "      <th>Work Rate</th>\n",
              "      <th>Height</th>\n",
              "      <th>Weight</th>\n",
              "      <th>Best Position</th>\n",
              "      <th>Best Overall Rating</th>\n",
              "      <th>General Position</th>\n",
              "    </tr>\n",
              "  </thead>\n",
              "  <tbody>\n",
              "    <tr>\n",
              "      <th>0</th>\n",
              "      <td>Bruno Fernandes</td>\n",
              "      <td>26</td>\n",
              "      <td>Portugal</td>\n",
              "      <td>88</td>\n",
              "      <td>89</td>\n",
              "      <td>Manchester United</td>\n",
              "      <td>1075000000</td>\n",
              "      <td>250000</td>\n",
              "      <td>2341</td>\n",
              "      <td>3.0</td>\n",
              "      <td>4.0</td>\n",
              "      <td>High/ High</td>\n",
              "      <td>179cm</td>\n",
              "      <td>69kg</td>\n",
              "      <td>CAM</td>\n",
              "      <td>88.0</td>\n",
              "      <td>Volante</td>\n",
              "    </tr>\n",
              "    <tr>\n",
              "      <th>1</th>\n",
              "      <td>L. Goretzka</td>\n",
              "      <td>26</td>\n",
              "      <td>Germany</td>\n",
              "      <td>87</td>\n",
              "      <td>88</td>\n",
              "      <td>FC Bayern München</td>\n",
              "      <td>93000000</td>\n",
              "      <td>140000</td>\n",
              "      <td>2314</td>\n",
              "      <td>4.0</td>\n",
              "      <td>3.0</td>\n",
              "      <td>High/ Medium</td>\n",
              "      <td>189cm</td>\n",
              "      <td>82kg</td>\n",
              "      <td>CM</td>\n",
              "      <td>87.0</td>\n",
              "      <td>Volante</td>\n",
              "    </tr>\n",
              "    <tr>\n",
              "      <th>2</th>\n",
              "      <td>L. Suárez</td>\n",
              "      <td>34</td>\n",
              "      <td>Uruguay</td>\n",
              "      <td>88</td>\n",
              "      <td>88</td>\n",
              "      <td>Atlético de Madrid</td>\n",
              "      <td>445000000</td>\n",
              "      <td>135000</td>\n",
              "      <td>2307</td>\n",
              "      <td>5.0</td>\n",
              "      <td>3.0</td>\n",
              "      <td>High/ Medium</td>\n",
              "      <td>182cm</td>\n",
              "      <td>83kg</td>\n",
              "      <td>ST</td>\n",
              "      <td>88.0</td>\n",
              "      <td>Delantero</td>\n",
              "    </tr>\n",
              "    <tr>\n",
              "      <th>3</th>\n",
              "      <td>K. De Bruyne</td>\n",
              "      <td>30</td>\n",
              "      <td>Belgium</td>\n",
              "      <td>91</td>\n",
              "      <td>91</td>\n",
              "      <td>Manchester City</td>\n",
              "      <td>1255000000</td>\n",
              "      <td>350000</td>\n",
              "      <td>2304</td>\n",
              "      <td>4.0</td>\n",
              "      <td>4.0</td>\n",
              "      <td>High/ High</td>\n",
              "      <td>181cm</td>\n",
              "      <td>70kg</td>\n",
              "      <td>CM</td>\n",
              "      <td>91.0</td>\n",
              "      <td>Volante</td>\n",
              "    </tr>\n",
              "    <tr>\n",
              "      <th>4</th>\n",
              "      <td>M. Acuña</td>\n",
              "      <td>29</td>\n",
              "      <td>Argentina</td>\n",
              "      <td>84</td>\n",
              "      <td>84</td>\n",
              "      <td>Sevilla FC</td>\n",
              "      <td>37000000</td>\n",
              "      <td>45000</td>\n",
              "      <td>2292</td>\n",
              "      <td>2.0</td>\n",
              "      <td>4.0</td>\n",
              "      <td>High/ High</td>\n",
              "      <td>172cm</td>\n",
              "      <td>69kg</td>\n",
              "      <td>LB</td>\n",
              "      <td>84.0</td>\n",
              "      <td>Defensor</td>\n",
              "    </tr>\n",
              "  </tbody>\n",
              "</table>\n",
              "</div>\n",
              "      <button class=\"colab-df-convert\" onclick=\"convertToInteractive('df-03a1c6f8-8c98-4ba7-b398-46352a4451b2')\"\n",
              "              title=\"Convert this dataframe to an interactive table.\"\n",
              "              style=\"display:none;\">\n",
              "        \n",
              "  <svg xmlns=\"http://www.w3.org/2000/svg\" height=\"24px\"viewBox=\"0 0 24 24\"\n",
              "       width=\"24px\">\n",
              "    <path d=\"M0 0h24v24H0V0z\" fill=\"none\"/>\n",
              "    <path d=\"M18.56 5.44l.94 2.06.94-2.06 2.06-.94-2.06-.94-.94-2.06-.94 2.06-2.06.94zm-11 1L8.5 8.5l.94-2.06 2.06-.94-2.06-.94L8.5 2.5l-.94 2.06-2.06.94zm10 10l.94 2.06.94-2.06 2.06-.94-2.06-.94-.94-2.06-.94 2.06-2.06.94z\"/><path d=\"M17.41 7.96l-1.37-1.37c-.4-.4-.92-.59-1.43-.59-.52 0-1.04.2-1.43.59L10.3 9.45l-7.72 7.72c-.78.78-.78 2.05 0 2.83L4 21.41c.39.39.9.59 1.41.59.51 0 1.02-.2 1.41-.59l7.78-7.78 2.81-2.81c.8-.78.8-2.07 0-2.86zM5.41 20L4 18.59l7.72-7.72 1.47 1.35L5.41 20z\"/>\n",
              "  </svg>\n",
              "      </button>\n",
              "      \n",
              "  <style>\n",
              "    .colab-df-container {\n",
              "      display:flex;\n",
              "      flex-wrap:wrap;\n",
              "      gap: 12px;\n",
              "    }\n",
              "\n",
              "    .colab-df-convert {\n",
              "      background-color: #E8F0FE;\n",
              "      border: none;\n",
              "      border-radius: 50%;\n",
              "      cursor: pointer;\n",
              "      display: none;\n",
              "      fill: #1967D2;\n",
              "      height: 32px;\n",
              "      padding: 0 0 0 0;\n",
              "      width: 32px;\n",
              "    }\n",
              "\n",
              "    .colab-df-convert:hover {\n",
              "      background-color: #E2EBFA;\n",
              "      box-shadow: 0px 1px 2px rgba(60, 64, 67, 0.3), 0px 1px 3px 1px rgba(60, 64, 67, 0.15);\n",
              "      fill: #174EA6;\n",
              "    }\n",
              "\n",
              "    [theme=dark] .colab-df-convert {\n",
              "      background-color: #3B4455;\n",
              "      fill: #D2E3FC;\n",
              "    }\n",
              "\n",
              "    [theme=dark] .colab-df-convert:hover {\n",
              "      background-color: #434B5C;\n",
              "      box-shadow: 0px 1px 3px 1px rgba(0, 0, 0, 0.15);\n",
              "      filter: drop-shadow(0px 1px 2px rgba(0, 0, 0, 0.3));\n",
              "      fill: #FFFFFF;\n",
              "    }\n",
              "  </style>\n",
              "\n",
              "      <script>\n",
              "        const buttonEl =\n",
              "          document.querySelector('#df-03a1c6f8-8c98-4ba7-b398-46352a4451b2 button.colab-df-convert');\n",
              "        buttonEl.style.display =\n",
              "          google.colab.kernel.accessAllowed ? 'block' : 'none';\n",
              "\n",
              "        async function convertToInteractive(key) {\n",
              "          const element = document.querySelector('#df-03a1c6f8-8c98-4ba7-b398-46352a4451b2');\n",
              "          const dataTable =\n",
              "            await google.colab.kernel.invokeFunction('convertToInteractive',\n",
              "                                                     [key], {});\n",
              "          if (!dataTable) return;\n",
              "\n",
              "          const docLinkHtml = 'Like what you see? Visit the ' +\n",
              "            '<a target=\"_blank\" href=https://colab.research.google.com/notebooks/data_table.ipynb>data table notebook</a>'\n",
              "            + ' to learn more about interactive tables.';\n",
              "          element.innerHTML = '';\n",
              "          dataTable['output_type'] = 'display_data';\n",
              "          await google.colab.output.renderOutput(dataTable, element);\n",
              "          const docLink = document.createElement('div');\n",
              "          docLink.innerHTML = docLinkHtml;\n",
              "          element.appendChild(docLink);\n",
              "        }\n",
              "      </script>\n",
              "    </div>\n",
              "  </div>\n",
              "  "
            ]
          },
          "metadata": {},
          "execution_count": 76
        }
      ]
    },
    {
      "cell_type": "code",
      "source": [
        "# Analicemos brevemente el dataset\n",
        "df.shape"
      ],
      "metadata": {
        "colab": {
          "base_uri": "https://localhost:8080/"
        },
        "id": "TIg5wcScvJJn",
        "outputId": "f82f85d3-4496-42ed-f135-dd42dc810dc8"
      },
      "execution_count": null,
      "outputs": [
        {
          "output_type": "execute_result",
          "data": {
            "text/plain": [
              "(16710, 17)"
            ]
          },
          "metadata": {},
          "execution_count": 77
        }
      ]
    },
    {
      "cell_type": "code",
      "source": [
        "df.info()"
      ],
      "metadata": {
        "colab": {
          "base_uri": "https://localhost:8080/"
        },
        "id": "xfOq2kr3wDCI",
        "outputId": "198fde14-739b-4de1-eedb-7ed6cb471715"
      },
      "execution_count": null,
      "outputs": [
        {
          "output_type": "stream",
          "name": "stdout",
          "text": [
            "<class 'pandas.core.frame.DataFrame'>\n",
            "RangeIndex: 16710 entries, 0 to 16709\n",
            "Data columns (total 17 columns):\n",
            " #   Column                    Non-Null Count  Dtype  \n",
            "---  ------                    --------------  -----  \n",
            " 0   Name                      16710 non-null  object \n",
            " 1   Age                       16710 non-null  int64  \n",
            " 2   Nationality               16710 non-null  object \n",
            " 3   Overall                   16710 non-null  int64  \n",
            " 4   Potential                 16710 non-null  int64  \n",
            " 5   Club                      16446 non-null  object \n",
            " 6   Value                     16710 non-null  int64  \n",
            " 7   Wage                      16710 non-null  int64  \n",
            " 8   Special                   16710 non-null  int64  \n",
            " 9   International Reputation  16710 non-null  float64\n",
            " 10  Skill Moves               16710 non-null  float64\n",
            " 11  Work Rate                 16710 non-null  object \n",
            " 12  Height                    16710 non-null  object \n",
            " 13  Weight                    16710 non-null  object \n",
            " 14  Best Position             16710 non-null  object \n",
            " 15  Best Overall Rating       16710 non-null  float64\n",
            " 16  General Position          16710 non-null  object \n",
            "dtypes: float64(3), int64(6), object(8)\n",
            "memory usage: 2.2+ MB\n"
          ]
        }
      ]
    },
    {
      "cell_type": "markdown",
      "source": [
        "**Insights**:\n",
        "\n",
        "* El dataset se compone de 17 columnas de las cuales 9 corresponden a variables independientes, que usaremos para predecir el target.\n",
        "\n",
        "* International Reputation es la variable a predecir. Todas las variables son numéricas, ya sea enteras o reales y no tiene valores nulos."
      ],
      "metadata": {
        "id": "hOLHIL-0xrJM"
      }
    },
    {
      "cell_type": "code",
      "source": [
        "#Separamos en X e y\n",
        "X = df.drop([\"International Reputation\"], axis=1)\n",
        "y = df[\"International Reputation\"]\n",
        "X.drop([\"Name\",  \"Nationality\", \"Club\", 'Work Rate', \"Height\", \"Weight\",'Best Position', \"General Position\"], axis=1, inplace=True)"
      ],
      "metadata": {
        "id": "KMyrXaBXxnze"
      },
      "execution_count": null,
      "outputs": []
    },
    {
      "cell_type": "code",
      "source": [
        "#Separamos en train y test!\n",
        "(X_train, X_test, y_train, y_test) = train_test_split(X, y, stratify=y, test_size=0.30, random_state=11)"
      ],
      "metadata": {
        "id": "A8xdAHPGyalI"
      },
      "execution_count": null,
      "outputs": []
    },
    {
      "cell_type": "code",
      "source": [
        "#Creamos un arbol de decisión sencillo y lo fiteamos\n",
        "tree = DecisionTreeClassifier(random_state=11)\n",
        "tree.fit(X_train, y_train)"
      ],
      "metadata": {
        "id": "leouaMidyihx",
        "colab": {
          "base_uri": "https://localhost:8080/"
        },
        "outputId": "207bde92-7431-4692-fddb-7d26dca47d77"
      },
      "execution_count": null,
      "outputs": [
        {
          "output_type": "execute_result",
          "data": {
            "text/plain": [
              "DecisionTreeClassifier(random_state=11)"
            ]
          },
          "metadata": {},
          "execution_count": 81
        }
      ]
    },
    {
      "cell_type": "code",
      "source": [
        "y_test_pred = tree.predict(X_test) #Prediccion en Test"
      ],
      "metadata": {
        "id": "A2OtxKuFykp1"
      },
      "execution_count": null,
      "outputs": []
    },
    {
      "cell_type": "code",
      "source": [
        "from sklearn.metrics import accuracy_score\n",
        "\n",
        "#Calculo el accuracy en Test\n",
        "test_accuracy = accuracy_score(y_test, y_test_pred)\n",
        "\n",
        "print('% de aciertos sobre el set de evaluación:',test_accuracy)"
      ],
      "metadata": {
        "id": "obtLqmo8yls0",
        "colab": {
          "base_uri": "https://localhost:8080/"
        },
        "outputId": "2b83bf6a-db5a-4ba9-8cb2-ced088d898f9"
      },
      "execution_count": null,
      "outputs": [
        {
          "output_type": "stream",
          "name": "stdout",
          "text": [
            "% de aciertos sobre el set de evaluación: 0.8661480151605825\n"
          ]
        }
      ]
    },
    {
      "cell_type": "code",
      "source": [
        "#Creamos un random forest!\n",
        "model = RandomForestClassifier(random_state=11, n_estimators=200,\n",
        "                               class_weight=\"balanced\", max_features=\"log2\")\n",
        "model.fit(X_train, y_train)"
      ],
      "metadata": {
        "id": "-2JTPuKeyn97",
        "colab": {
          "base_uri": "https://localhost:8080/"
        },
        "outputId": "68520b31-c076-4fb3-ad49-b700d192e261"
      },
      "execution_count": null,
      "outputs": [
        {
          "output_type": "execute_result",
          "data": {
            "text/plain": [
              "RandomForestClassifier(class_weight='balanced', max_features='log2',\n",
              "                       n_estimators=200, random_state=11)"
            ]
          },
          "metadata": {},
          "execution_count": 84
        }
      ]
    },
    {
      "cell_type": "code",
      "source": [
        "y_test_pred = model.predict(X_test) #Prediccion en Test"
      ],
      "metadata": {
        "id": "TQ3bfCRIysDW"
      },
      "execution_count": null,
      "outputs": []
    },
    {
      "cell_type": "code",
      "source": [
        "#Calculo el accuracy en Test\n",
        "test_accuracy = accuracy_score(y_test, y_test_pred)\n",
        "\n",
        "print('% de aciertos sobre el set de evaluación:',test_accuracy)"
      ],
      "metadata": {
        "id": "CYegh294ywcu",
        "colab": {
          "base_uri": "https://localhost:8080/"
        },
        "outputId": "f36d7d09-38a2-42ba-9824-f4cbb04601ae"
      },
      "execution_count": null,
      "outputs": [
        {
          "output_type": "stream",
          "name": "stdout",
          "text": [
            "% de aciertos sobre el set de evaluación: 0.8904847396768402\n"
          ]
        }
      ]
    },
    {
      "cell_type": "markdown",
      "source": [
        "Conclusiones!\n",
        "\n",
        "Simplemente utilizando el algoritmo de random forest, obtenemos un mejor accuracy que haciendo uso de un DecisionTreeClassifier 😉"
      ],
      "metadata": {
        "id": "OO2NJV_Ty4sU"
      }
    }
  ]
}